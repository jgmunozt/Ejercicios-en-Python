{
 "cells": [
  {
   "cell_type": "markdown",
   "id": "b0a43311-4ad0-4d44-8192-044d039d7ace",
   "metadata": {},
   "source": [
    "funciones "
   ]
  },
  {
   "cell_type": "markdown",
   "id": "0d6e3130-9b31-4405-86d6-d7e5a262b3de",
   "metadata": {},
   "source": [
    "Funcion factorial - sin pregunta en la consola"
   ]
  },
  {
   "cell_type": "code",
   "execution_count": 9,
   "id": "249a828a-fe41-4079-a4ad-9a3c0b9e7701",
   "metadata": {},
   "outputs": [
    {
     "name": "stdout",
     "output_type": "stream",
     "text": [
      "120\n",
      "1\n",
      "no se pueden ingresar numeros negativos\n",
      "None\n"
     ]
    }
   ],
   "source": [
    "def Factorial(n):\n",
    "    \"\"\"\n",
    "    calcula un numero en factorial\n",
    "    \"\"\"\n",
    "    if n < 0:\n",
    "        print(\"no se pueden ingresar numeros negativos\")\n",
    "        return  None\n",
    "    elif n == 0 or n ==1:\n",
    "        return 1\n",
    "    else: \n",
    "        return n*Factorial(n-1)\n",
    "\n",
    "print(Factorial(5))\n",
    "print(Factorial(0))\n",
    "print(Factorial(-1))"
   ]
  },
  {
   "cell_type": "markdown",
   "id": "e99a1edc-ddc0-495c-bc97-166919e09635",
   "metadata": {},
   "source": [
    "funcion factorial -  con pregunta en la consola"
   ]
  },
  {
   "cell_type": "code",
   "execution_count": 13,
   "id": "0000b2f8-b40f-431b-8539-8b8e16fe546a",
   "metadata": {},
   "outputs": [
    {
     "name": "stdin",
     "output_type": "stream",
     "text": [
      "ingresa el numero para calcular el factorial: 4\n"
     ]
    },
    {
     "name": "stdout",
     "output_type": "stream",
     "text": [
      "para el numero 4 el resultado es 24\n"
     ]
    }
   ],
   "source": [
    "def Factorial(n):\n",
    "    \"\"\"\n",
    "    calcula un numero en factorial\n",
    "    \"\"\"\n",
    "    if n < 0:\n",
    "        print(\"no se pueden ingresar numeros negativos\")\n",
    "        return  None\n",
    "    elif n == 0 or n ==1:\n",
    "        return 1\n",
    "    else: \n",
    "        return n*Factorial(n-1)\n",
    "\n",
    "num = int(input(\"ingresa el numero para calcular el factorial:\"))\n",
    "\n",
    "resultado = Factorial(num)\n",
    "\n",
    "if resultado is not None: \n",
    "        print(f\"para el numero {num} el resultado es {resultado}\")"
   ]
  },
  {
   "cell_type": "markdown",
   "id": "e07bae9a-5b2f-4120-972c-2a89dfbb184d",
   "metadata": {},
   "source": [
    "Funcion factorial  -  con pregunta en la consola - con retorno"
   ]
  },
  {
   "cell_type": "code",
   "execution_count": 26,
   "id": "a2573ea7-8cc2-4737-b36e-550cf1f3d944",
   "metadata": {},
   "outputs": [
    {
     "name": "stdin",
     "output_type": "stream",
     "text": [
      "\n",
      "Ingresa un número para calcular su factorial:  5\n"
     ]
    },
    {
     "name": "stdout",
     "output_type": "stream",
     "text": [
      "El factorial de 5 es 120\n"
     ]
    },
    {
     "name": "stdin",
     "output_type": "stream",
     "text": [
      "¿Quieres calcular otro número? (si/no):  no\n"
     ]
    },
    {
     "name": "stdout",
     "output_type": "stream",
     "text": [
      "el programa ha finalizado\n"
     ]
    }
   ],
   "source": [
    "def factorial(n):\n",
    "    \"\"\"\n",
    "    Calcula el factorial de un número entero no negativo.\n",
    "    \"\"\"\n",
    "    if n < 0:\n",
    "        return None\n",
    "    elif n == 0 or n == 1:\n",
    "        return 1\n",
    "    else:\n",
    "        return n * factorial(n - 1)\n",
    "\n",
    "# Bucle principal\n",
    "while True:\n",
    "    try:\n",
    "        num = int(input(\"\\nIngresa un número para calcular su factorial: \"))\n",
    "        resultado = factorial(num)\n",
    "\n",
    "        if resultado is None:\n",
    "            print(\" No se pueden ingresar números negativos.\")\n",
    "        else:\n",
    "            print(f\"El factorial de {num} es {resultado}\")\n",
    "\n",
    "    except ValueError:\n",
    "        print(\" Ingresa un número válido.\")\n",
    "        continue\n",
    "\n",
    "    # Preguntar si continuar\n",
    "    seguir = input(\"¿Quieres calcular otro número? (si/no): \").strip().lower()\n",
    "\n",
    "    if seguir == \"si\":\n",
    "        continue\n",
    "    elif seguir == \"no\":\n",
    "        print(\"el programa ha finalizado\")\n",
    "        break\n",
    "    else:\n",
    "        print(\"ingrese un valor valido\")\n",
    "    \n",
    "        \n"
   ]
  },
  {
   "cell_type": "code",
   "execution_count": null,
   "id": "1de3ce09-554b-4c8f-873f-f42b49ed242c",
   "metadata": {},
   "outputs": [],
   "source": []
  }
 ],
 "metadata": {
  "kernelspec": {
   "display_name": "Python 3 (ipykernel)",
   "language": "python",
   "name": "python3"
  },
  "language_info": {
   "codemirror_mode": {
    "name": "ipython",
    "version": 3
   },
   "file_extension": ".py",
   "mimetype": "text/x-python",
   "name": "python",
   "nbconvert_exporter": "python",
   "pygments_lexer": "ipython3",
   "version": "3.13.5"
  }
 },
 "nbformat": 4,
 "nbformat_minor": 5
}
