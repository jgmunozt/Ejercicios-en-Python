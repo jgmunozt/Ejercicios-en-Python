{
 "cells": [
  {
   "cell_type": "markdown",
   "id": "fc2c1043-6741-42e8-8e76-b0b39abdde40",
   "metadata": {},
   "source": [
    "¿ que es un bucle?\n",
    "\n",
    "una accion repetitiva"
   ]
  },
  {
   "cell_type": "markdown",
   "id": "ad18334f-9a09-42dd-9c17-d4fe61a142c2",
   "metadata": {},
   "source": [
    "palabras claves del bucle:\n",
    "\n",
    "break  = Sale del bucle\n",
    "\n",
    "continue = saltar al siguiente ciclo sin terminar el actual\n",
    "\n",
    "else = Se ejecuta si el bucle termina sin break\n",
    "\n"
   ]
  },
  {
   "cell_type": "markdown",
   "id": "6fe44205-0cfa-48ef-bf22-dfdd4fe0b242",
   "metadata": {},
   "source": [
    "1).- ejemplo break y continue"
   ]
  },
  {
   "cell_type": "code",
   "execution_count": 1,
   "id": "f2648d93-14a1-4be2-869b-ed9ce9eedc32",
   "metadata": {},
   "outputs": [
    {
     "name": "stdout",
     "output_type": "stream",
     "text": [
      "0\n",
      "1\n",
      "3\n",
      "4\n"
     ]
    }
   ],
   "source": [
    "for i in range(5):\n",
    "    if i == 2:\n",
    "        continue\n",
    "    print(i)"
   ]
  },
  {
   "cell_type": "code",
   "execution_count": 3,
   "id": "427d653f-48da-439d-8843-7998d32f29f1",
   "metadata": {},
   "outputs": [
    {
     "name": "stdout",
     "output_type": "stream",
     "text": [
      "0\n",
      "1\n",
      "2\n",
      "4\n"
     ]
    }
   ],
   "source": [
    "for i in range(5):\n",
    "    if i == 3:\n",
    "        continue\n",
    "    print(i)"
   ]
  },
  {
   "cell_type": "markdown",
   "id": "59ebd468-eb12-4433-98c7-d77db12c3fa1",
   "metadata": {},
   "source": [
    "2).- for animado (bucle dentro de otro)"
   ]
  },
  {
   "cell_type": "code",
   "execution_count": 4,
   "id": "10ffa71a-89a3-4853-89ef-e0b2815f5d13",
   "metadata": {},
   "outputs": [
    {
     "name": "stdout",
     "output_type": "stream",
     "text": [
      "i=0, j=0\n",
      "i=0, j=1\n",
      "i=0, j=2\n",
      "i=1, j=0\n",
      "i=1, j=1\n",
      "i=1, j=2\n"
     ]
    }
   ],
   "source": [
    "for i in range(2):\n",
    "    for j in range(3):\n",
    "        print(f\"i={i}, j={j}\")"
   ]
  },
  {
   "cell_type": "markdown",
   "id": "8a3e69e0-abab-4624-ac17-c78ba9c7510a",
   "metadata": {},
   "source": [
    "3) contar del 1 a 5 usando white"
   ]
  },
  {
   "cell_type": "code",
   "execution_count": 5,
   "id": "abc8a441-b1c2-47e5-9c07-b3b5698643cd",
   "metadata": {},
   "outputs": [
    {
     "name": "stdout",
     "output_type": "stream",
     "text": [
      "1\n",
      "2\n",
      "3\n",
      "4\n",
      "5\n"
     ]
    }
   ],
   "source": [
    "contador = 1\n",
    "while contador <= 5:\n",
    "    print(contador)\n",
    "    contador +=1"
   ]
  },
  {
   "cell_type": "markdown",
   "id": "7ff2b3dd-ee19-460b-867e-b947d1de3aa4",
   "metadata": {},
   "source": [
    "4).- pedir al usuario una contraseña hasta que escriba la correcta:"
   ]
  },
  {
   "cell_type": "code",
   "execution_count": 7,
   "id": "bc53ad11-faeb-44d8-b1dd-edd799345b00",
   "metadata": {},
   "outputs": [
    {
     "name": "stdin",
     "output_type": "stream",
     "text": [
      "ingrese la contraseña jdjjd\n",
      "ingrese la contraseña jfjjfj\n",
      "ingrese la contraseña jdjdjfjf\n",
      "ingrese la contraseña jdjd\n",
      "ingrese la contraseña python123\n"
     ]
    },
    {
     "name": "stdout",
     "output_type": "stream",
     "text": [
      "La contraseña es correcta\n"
     ]
    }
   ],
   "source": [
    "contraseña = \"python123\"\n",
    "entrada = \"\"\n",
    "while entrada != contraseña:\n",
    "    entrada = input(\"ingrese la contraseña\")\n",
    "\n",
    "print(\"La contraseña es correcta\")"
   ]
  },
  {
   "cell_type": "markdown",
   "id": "c2bb886a-33dd-4063-ba4c-f296dcee739c",
   "metadata": {},
   "source": [
    "5).- contar hacia atras desde 5 hasta 1"
   ]
  },
  {
   "cell_type": "code",
   "execution_count": 8,
   "id": "6015acf7-f8a8-494a-8391-8295e84b41bf",
   "metadata": {},
   "outputs": [
    {
     "name": "stdout",
     "output_type": "stream",
     "text": [
      "5\n",
      "4\n",
      "3\n",
      "2\n",
      "1\n"
     ]
    }
   ],
   "source": [
    "x = 5\n",
    "while x > 0:\n",
    "    print(x)\n",
    "    x-=1"
   ]
  },
  {
   "cell_type": "code",
   "execution_count": null,
   "id": "81411ab9-51a6-4397-a58b-62d617d4ae94",
   "metadata": {},
   "outputs": [],
   "source": []
  }
 ],
 "metadata": {
  "kernelspec": {
   "display_name": "Python 3 (ipykernel)",
   "language": "python",
   "name": "python3"
  },
  "language_info": {
   "codemirror_mode": {
    "name": "ipython",
    "version": 3
   },
   "file_extension": ".py",
   "mimetype": "text/x-python",
   "name": "python",
   "nbconvert_exporter": "python",
   "pygments_lexer": "ipython3",
   "version": "3.13.5"
  }
 },
 "nbformat": 4,
 "nbformat_minor": 5
}
