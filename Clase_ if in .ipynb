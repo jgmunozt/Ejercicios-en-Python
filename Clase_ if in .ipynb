{
 "cells": [
  {
   "cell_type": "markdown",
   "id": "8cf83234-a994-43ba-85b5-e067d2112f76",
   "metadata": {},
   "source": [
    "la sintaxis correcta es:\n",
    "\n",
    "coincidencias = ¨p for p in  lista if busqueda in p]\n",
    "print(\"coincidencias encontradas:\",coincidencias)"
   ]
  },
  {
   "cell_type": "markdown",
   "id": "957a0363-8d5c-46d2-8f16-c2121438334b",
   "metadata": {},
   "source": [
    "1).- buscar una palabra en la lista"
   ]
  },
  {
   "cell_type": "code",
   "execution_count": 6,
   "id": "afb1addc-5cb6-4abb-925d-f52dc9fdd068",
   "metadata": {},
   "outputs": [
    {
     "name": "stdout",
     "output_type": "stream",
     "text": [
      "Cote esta dentro de ['Juan', 'Cote', 'Julieta', 'Máximo']\n"
     ]
    }
   ],
   "source": [
    "lista = [\"Juan\", \"Cote\", \"Julieta\", \"Máximo\"]\n",
    "busqueda = \"Cote\"\n",
    "for palabra in lista:\n",
    "    if busqueda in palabra:\n",
    "        print(f\"{busqueda} esta dentro de {lista}\")"
   ]
  },
  {
   "cell_type": "markdown",
   "id": "0ed87f9b-514e-4d03-9454-dd6e35a0236f",
   "metadata": {},
   "source": [
    "2) En la linea del sum(), escribiste"
   ]
  },
  {
   "cell_type": "code",
   "execution_count": 8,
   "id": "3e7cb908-2783-4ab7-9460-da8246666cb4",
   "metadata": {},
   "outputs": [
    {
     "data": {
      "text/plain": [
       "1"
      ]
     },
     "execution_count": 8,
     "metadata": {},
     "output_type": "execute_result"
    }
   ],
   "source": [
    "sum(1 for palabra in lista if busqueda in palabra)"
   ]
  },
  {
   "cell_type": "markdown",
   "id": "c0ddda28-32cd-4147-b886-a156759877b9",
   "metadata": {},
   "source": [
    "3).- mostrar palabras y si coinciden"
   ]
  },
  {
   "cell_type": "code",
   "execution_count": 10,
   "id": "0c0e1044-8110-430a-ae43-8dba4db9d6dd",
   "metadata": {},
   "outputs": [
    {
     "name": "stdout",
     "output_type": "stream",
     "text": [
      "1. banana\n",
      "1. banana\n"
     ]
    }
   ],
   "source": [
    "palabra = [\"manzana\", \"banana\", \"pera\", \"sandia\", \"banana\"]\n",
    "busqueda = \"banana\"\n",
    "\n",
    "for i, palabra in enumerate(palabra, start=1):\n",
    "    if palabra == busqueda:\n",
    "        print(f\"{1}. {palabra}\")"
   ]
  },
  {
   "cell_type": "markdown",
   "id": "4844880e-fecf-42c3-a9ec-3976bdc35605",
   "metadata": {},
   "source": [
    "4).- guardar las posiciones en una lista"
   ]
  },
  {
   "cell_type": "code",
   "execution_count": 12,
   "id": "cd248281-31b4-4541-a722-d4d6bc3185f4",
   "metadata": {},
   "outputs": [
    {
     "name": "stdout",
     "output_type": "stream",
     "text": [
      "coincidencias en las posiciones: [1, 4]\n"
     ]
    }
   ],
   "source": [
    "palabra = [\"manzana\", \"banana\", \"pera\", \"sandia\", \"banana\"]\n",
    "busqueda = \"banana\"\n",
    "\n",
    "posiciones = [i for i, palabra in enumerate(palabra) if palabra == busqueda]\n",
    "\n",
    "print(\"coincidencias en las posiciones:\", posiciones)"
   ]
  },
  {
   "cell_type": "markdown",
   "id": "17caa0de-51e8-4787-80a5-cb2bcbfc8849",
   "metadata": {},
   "source": [
    "5).- si buscas que tenga una parte de la palabra"
   ]
  },
  {
   "cell_type": "code",
   "execution_count": 15,
   "id": "018e088f-486c-448d-ac42-f147a4f26cad",
   "metadata": {},
   "outputs": [
    {
     "name": "stdout",
     "output_type": "stream",
     "text": [
      "1. manzana\n",
      "2. banana\n",
      "5. banana\n"
     ]
    }
   ],
   "source": [
    "palabra = [\"manzana\", \"banana\", \"pera\", \"sandia\", \"banana\"]\n",
    "busqueda = \"ana\"\n",
    "\n",
    "for i, palabra in enumerate(palabra, start=1):\n",
    "    if busqueda in palabra:\n",
    "        print(f\"{i}. {palabra}\")"
   ]
  },
  {
   "cell_type": "markdown",
   "id": "d5d4a316-60a6-4986-9a25-66ffeed23a7d",
   "metadata": {},
   "source": [
    "6) otra forma de contar usando count()"
   ]
  },
  {
   "cell_type": "code",
   "execution_count": 16,
   "id": "d8f51252-8613-4cd4-a92b-8ae5d079dc67",
   "metadata": {},
   "outputs": [
    {
     "name": "stdout",
     "output_type": "stream",
     "text": [
      "la palabra 'banana' aparece 2 veces\n"
     ]
    }
   ],
   "source": [
    "palabra = [\"manzana\", \"banana\", \"pera\", \"sandia\", \"banana\"]\n",
    "busqueda = \"banana\"\n",
    "\n",
    "cantidad = palabra.count(busqueda)\n",
    "\n",
    "print(f\"la palabra '{busqueda}' aparece {cantidad} veces\")"
   ]
  },
  {
   "cell_type": "markdown",
   "id": "af4353b7-c1ea-44dc-82a1-be7ec254f663",
   "metadata": {},
   "source": [
    "7).- si se busca la cantidad y la posicion de la palabra en la lista"
   ]
  },
  {
   "cell_type": "code",
   "execution_count": 17,
   "id": "d2a6d11e-37eb-4476-b2e2-c908ac0bc90d",
   "metadata": {},
   "outputs": [
    {
     "name": "stdout",
     "output_type": "stream",
     "text": [
      "Se encontraron 2 coincidencias en las posiciones: [1, 4]\n"
     ]
    }
   ],
   "source": [
    "palabra = [\"manzana\", \"banana\", \"pera\", \"sandia\", \"banana\"]\n",
    "busqueda = \"banana\"\n",
    "\n",
    "coincidencias = [i for i, palabra in enumerate(palabra) if busqueda in palabra]\n",
    "\n",
    "print(f\"Se encontraron {len(coincidencias)} coincidencias en las posiciones: {coincidencias}\")"
   ]
  },
  {
   "cell_type": "code",
   "execution_count": null,
   "id": "4f256437-11a3-4359-adc6-1a12ca1c05d0",
   "metadata": {},
   "outputs": [],
   "source": []
  }
 ],
 "metadata": {
  "kernelspec": {
   "display_name": "Python 3 (ipykernel)",
   "language": "python",
   "name": "python3"
  },
  "language_info": {
   "codemirror_mode": {
    "name": "ipython",
    "version": 3
   },
   "file_extension": ".py",
   "mimetype": "text/x-python",
   "name": "python",
   "nbconvert_exporter": "python",
   "pygments_lexer": "ipython3",
   "version": "3.13.5"
  }
 },
 "nbformat": 4,
 "nbformat_minor": 5
}
