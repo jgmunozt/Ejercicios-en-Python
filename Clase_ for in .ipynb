{
 "cells": [
  {
   "cell_type": "markdown",
   "id": "58bb4e5b-c3d3-4706-a3cf-bda5afa181f5",
   "metadata": {},
   "source": [
    "1).- Recorrer una lista\n"
   ]
  },
  {
   "cell_type": "code",
   "execution_count": 1,
   "id": "0da73bfa-490a-40aa-9da4-f3044ee01fc7",
   "metadata": {},
   "outputs": [
    {
     "name": "stdout",
     "output_type": "stream",
     "text": [
      "2\n",
      "4\n",
      "6\n"
     ]
    }
   ],
   "source": [
    "numero = [2, 4, 6]\n",
    "for numero in numero:\n",
    "    print(numero)"
   ]
  },
  {
   "cell_type": "markdown",
   "id": "e7ed5904-6395-4f81-9ed4-2334dcca79c0",
   "metadata": {},
   "source": [
    "2).- Recorrer un texto"
   ]
  },
  {
   "cell_type": "code",
   "execution_count": 2,
   "id": "7e5048f6-6579-43bd-bb1d-03681ae67786",
   "metadata": {},
   "outputs": [
    {
     "name": "stdout",
     "output_type": "stream",
     "text": [
      "H\n",
      "o\n",
      "l\n",
      "a\n"
     ]
    }
   ],
   "source": [
    "for letra in \"Hola\":\n",
    "    print(letra)"
   ]
  },
  {
   "cell_type": "markdown",
   "id": "99cf8820-c463-4101-bc22-843e29c547f9",
   "metadata": {},
   "source": [
    "3).- Usar con ranger()"
   ]
  },
  {
   "cell_type": "code",
   "execution_count": 3,
   "id": "3d724938-cc7e-4033-ae7e-43e9707dd336",
   "metadata": {},
   "outputs": [
    {
     "name": "stdout",
     "output_type": "stream",
     "text": [
      "0\n",
      "1\n",
      "2\n",
      "3\n",
      "4\n"
     ]
    }
   ],
   "source": [
    "for i in range(5):\n",
    "    print(i)"
   ]
  },
  {
   "cell_type": "markdown",
   "id": "e239761b-ea78-4117-a852-72f0f1bd9d2d",
   "metadata": {},
   "source": [
    "¿ que significa for... in ?\n",
    "for - por cada elemento...\n",
    "in - dentro de esta lista o conjunto"
   ]
  },
  {
   "cell_type": "markdown",
   "id": "58a6c6f9-352d-404b-8ee1-26b46c9a3240",
   "metadata": {},
   "source": [
    "4).- Recorrer con indice usando enumerate()"
   ]
  },
  {
   "cell_type": "code",
   "execution_count": 4,
   "id": "60599063-4eae-4481-8d56-569208092986",
   "metadata": {},
   "outputs": [
    {
     "name": "stdout",
     "output_type": "stream",
     "text": [
      "1. Ana\n",
      "2. Luis\n",
      "3. CArlos\n"
     ]
    }
   ],
   "source": [
    "nombres = [\"Ana\", \"Luis\", \"CArlos\"]\n",
    "for i, nombre in enumerate(nombres):\n",
    "    print(f\"{i+1}. {nombre}\")"
   ]
  },
  {
   "cell_type": "markdown",
   "id": "f03b5be4-1ed7-4563-9807-1b0f2d7bf461",
   "metadata": {},
   "source": [
    "    while y for in (while es un tipo de bucle)"
   ]
  },
  {
   "cell_type": "markdown",
   "id": "331c3f15-8846-4ace-a805-3d8dff03fb0d",
   "metadata": {},
   "source": [
    "1).- Bucle for - recorre elementos"
   ]
  },
  {
   "cell_type": "code",
   "execution_count": 6,
   "id": "5743151e-9243-4c79-bc37-5594129af7e9",
   "metadata": {},
   "outputs": [
    {
     "name": "stdout",
     "output_type": "stream",
     "text": [
      "1\n",
      "2\n",
      "3\n"
     ]
    }
   ],
   "source": [
    "for numero in [1, 2, 3]:\n",
    "    print(numero)"
   ]
  },
  {
   "cell_type": "markdown",
   "id": "898076c3-7e39-4a4a-93ae-5f809d01fa53",
   "metadata": {},
   "source": [
    "2).- for con range para repetir varias veces"
   ]
  },
  {
   "cell_type": "code",
   "execution_count": 7,
   "id": "36e58782-01c6-4f02-8799-bfa5fd3d3809",
   "metadata": {},
   "outputs": [
    {
     "name": "stdout",
     "output_type": "stream",
     "text": [
      "Hola\n",
      "Hola\n",
      "Hola\n",
      "Hola\n",
      "Hola\n"
     ]
    }
   ],
   "source": [
    "for i in range(5):\n",
    "    print(\"Hola\")"
   ]
  },
  {
   "cell_type": "markdown",
   "id": "955c1ff6-cb5e-4a4f-b06a-782f90469940",
   "metadata": {},
   "source": [
    "3).- Bucle while - Se repite mientras se cumpla la condición "
   ]
  },
  {
   "cell_type": "code",
   "execution_count": null,
   "id": "508a8815-64f6-4289-a766-5e287f6d4169",
   "metadata": {},
   "outputs": [],
   "source": [
    "x = 0\n",
    "while x < 5:\n",
    "    print(x)\n",
    "    x += 1"
   ]
  },
  {
   "cell_type": "markdown",
   "id": "53a73d3d-3d5c-4719-ac65-70433c9096a1",
   "metadata": {},
   "source": [
    "4).- mostrar cada letra de una palabra ingresada por el usuario"
   ]
  },
  {
   "cell_type": "code",
   "execution_count": null,
   "id": "2f316639-c1d2-431a-8459-bf4b466bf2ab",
   "metadata": {},
   "outputs": [],
   "source": [
    "palabra = input(\"ingresa una palabra:\")\n",
    "for letra in palabra:\n",
    "     print(letra)"
   ]
  },
  {
   "cell_type": "markdown",
   "id": "f1d642b2-fc71-4b7c-b61c-5a4c681328f7",
   "metadata": {},
   "source": [
    "5).- Suma todos los numeros de la lista"
   ]
  },
  {
   "cell_type": "code",
   "execution_count": null,
   "id": "56f846a2-f3c9-494b-ab86-d9a68eb724fc",
   "metadata": {},
   "outputs": [],
   "source": [
    "numeros = [2, 4, 6, 8]\n",
    "suma = 0\n",
    "for numero in numeros:\n",
    "    suma += numero\n",
    "print(f\"la suma es: {suma}\")"
   ]
  },
  {
   "cell_type": "markdown",
   "id": "0747d893-d1db-453d-b79b-1183a28fb966",
   "metadata": {},
   "source": [
    "6).- buscar una palabra en la lista"
   ]
  },
  {
   "cell_type": "code",
   "execution_count": null,
   "id": "966aa53e-5d73-4005-bb13-415497a2b41f",
   "metadata": {},
   "outputs": [],
   "source": []
  },
  {
   "cell_type": "code",
   "execution_count": null,
   "id": "392f866e-7125-4dab-b685-c6a049751b51",
   "metadata": {},
   "outputs": [],
   "source": []
  }
 ],
 "metadata": {
  "kernelspec": {
   "display_name": "Python 3 (ipykernel)",
   "language": "python",
   "name": "python3"
  },
  "language_info": {
   "codemirror_mode": {
    "name": "ipython",
    "version": 3
   },
   "file_extension": ".py",
   "mimetype": "text/x-python",
   "name": "python",
   "nbconvert_exporter": "python",
   "pygments_lexer": "ipython3",
   "version": "3.13.5"
  }
 },
 "nbformat": 4,
 "nbformat_minor": 5
}
